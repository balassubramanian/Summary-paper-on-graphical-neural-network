{
 "cells": [
  {
   "cell_type": "code",
   "execution_count": 1,
   "metadata": {
    "colab": {
     "base_uri": "https://localhost:8080/"
    },
    "id": "CkoOU1E_shJZ",
    "outputId": "990a557f-fdb0-4f41-de46-24d91511ff0e"
   },
   "outputs": [],
   "source": [
    "#!pip install torch"
   ]
  },
  {
   "cell_type": "code",
   "execution_count": 12,
   "metadata": {},
   "outputs": [],
   "source": [
    "import time"
   ]
  },
  {
   "cell_type": "code",
   "execution_count": 2,
   "metadata": {
    "colab": {
     "base_uri": "https://localhost:8080/"
    },
    "id": "6rmwUKAusxsH",
    "outputId": "5335acc9-b046-426a-f9f0-1a3f0a09418a"
   },
   "outputs": [
    {
     "name": "stdout",
     "output_type": "stream",
     "text": [
      "Defaulting to user installation because normal site-packages is not writeable\n",
      "Collecting torch_geometric\n",
      "  Downloading torch_geometric-2.3.1.tar.gz (661 kB)\n",
      "\u001b[2K     \u001b[90m━━━━━━━━━━━━━━━━━━━━━━━━━━━━━━━━━━━━━━\u001b[0m \u001b[32m661.6/661.6 kB\u001b[0m \u001b[31m18.2 MB/s\u001b[0m eta \u001b[36m0:00:00\u001b[0m00:01\u001b[0m\n",
      "\u001b[?25h  Installing build dependencies ... \u001b[?25ldone\n",
      "\u001b[?25h  Getting requirements to build wheel ... \u001b[?25ldone\n",
      "\u001b[?25h  Preparing metadata (pyproject.toml) ... \u001b[?25ldone\n",
      "\u001b[?25hRequirement already satisfied: scipy in /opt/sw/spack/apps/linux-rhel8-x86_64_v2/gcc-10.3.0/python-3.9.9-jh/lib/python3.9/site-packages (from torch_geometric) (1.9.1)\n",
      "Requirement already satisfied: pyparsing in /opt/sw/spack/apps/linux-rhel8-x86_64_v2/gcc-10.3.0/python-3.9.9-jh/lib/python3.9/site-packages (from torch_geometric) (3.0.7)\n",
      "Requirement already satisfied: psutil>=5.8.0 in /opt/sw/spack/apps/linux-rhel8-x86_64_v2/gcc-10.3.0/python-3.9.9-jh/lib/python3.9/site-packages (from torch_geometric) (5.9.0)\n",
      "Requirement already satisfied: tqdm in /opt/sw/spack/apps/linux-rhel8-x86_64_v2/gcc-10.3.0/python-3.9.9-jh/lib/python3.9/site-packages (from torch_geometric) (4.63.1)\n",
      "Requirement already satisfied: scikit-learn in /opt/sw/spack/apps/linux-rhel8-x86_64_v2/gcc-10.3.0/python-3.9.9-jh/lib/python3.9/site-packages (from torch_geometric) (1.1.1)\n",
      "Requirement already satisfied: numpy in /opt/sw/spack/apps/linux-rhel8-x86_64_v2/gcc-10.3.0/python-3.9.9-jh/lib/python3.9/site-packages (from torch_geometric) (1.22.3)\n",
      "Requirement already satisfied: requests in /opt/sw/spack/apps/linux-rhel8-x86_64_v2/gcc-10.3.0/python-3.9.9-jh/lib/python3.9/site-packages (from torch_geometric) (2.27.1)\n",
      "Requirement already satisfied: jinja2 in /opt/sw/spack/apps/linux-rhel8-x86_64_v2/gcc-10.3.0/python-3.9.9-jh/lib/python3.9/site-packages (from torch_geometric) (3.1.0)\n",
      "Requirement already satisfied: MarkupSafe>=2.0 in /opt/sw/spack/apps/linux-rhel8-x86_64_v2/gcc-10.3.0/python-3.9.9-jh/lib/python3.9/site-packages (from jinja2->torch_geometric) (2.1.1)\n",
      "Requirement already satisfied: idna<4,>=2.5 in /opt/sw/spack/apps/linux-rhel8-x86_64_v2/gcc-10.3.0/python-3.9.9-jh/lib/python3.9/site-packages (from requests->torch_geometric) (3.3)\n",
      "Requirement already satisfied: charset-normalizer~=2.0.0 in /opt/sw/spack/apps/linux-rhel8-x86_64_v2/gcc-10.3.0/python-3.9.9-jh/lib/python3.9/site-packages (from requests->torch_geometric) (2.0.12)\n",
      "Requirement already satisfied: certifi>=2017.4.17 in /opt/sw/spack/apps/linux-rhel8-x86_64_v2/gcc-10.3.0/python-3.9.9-jh/lib/python3.9/site-packages (from requests->torch_geometric) (2021.10.8)\n",
      "Requirement already satisfied: urllib3<1.27,>=1.21.1 in /opt/sw/spack/apps/linux-rhel8-x86_64_v2/gcc-10.3.0/python-3.9.9-jh/lib/python3.9/site-packages (from requests->torch_geometric) (1.26.9)\n",
      "Requirement already satisfied: threadpoolctl>=2.0.0 in /opt/sw/spack/apps/linux-rhel8-x86_64_v2/gcc-10.3.0/python-3.9.9-jh/lib/python3.9/site-packages (from scikit-learn->torch_geometric) (3.1.0)\n",
      "Requirement already satisfied: joblib>=1.0.0 in /opt/sw/spack/apps/linux-rhel8-x86_64_v2/gcc-10.3.0/python-3.9.9-jh/lib/python3.9/site-packages (from scikit-learn->torch_geometric) (1.1.0)\n",
      "Building wheels for collected packages: torch_geometric\n",
      "  Building wheel for torch_geometric (pyproject.toml) ... \u001b[?25ldone\n",
      "\u001b[?25h  Created wheel for torch_geometric: filename=torch_geometric-2.3.1-py3-none-any.whl size=910459 sha256=6f4f3bcc35d5fa69e9a092182cf451c368688e2ec0d0918be164568f62aadebb\n",
      "  Stored in directory: /home/nbrenna4/.cache/pip/wheels/92/53/6f/2b8d654789b342509d9db30d1b420b7978da49b447a5662b05\n",
      "Successfully built torch_geometric\n",
      "Installing collected packages: torch_geometric\n",
      "Successfully installed torch_geometric-2.3.1\n",
      "\n",
      "\u001b[1m[\u001b[0m\u001b[34;49mnotice\u001b[0m\u001b[1;39;49m]\u001b[0m\u001b[39;49m A new release of pip available: \u001b[0m\u001b[31;49m22.3.1\u001b[0m\u001b[39;49m -> \u001b[0m\u001b[32;49m23.1.2\u001b[0m\n",
      "\u001b[1m[\u001b[0m\u001b[34;49mnotice\u001b[0m\u001b[1;39;49m]\u001b[0m\u001b[39;49m To update, run: \u001b[0m\u001b[32;49mpip install --upgrade pip\u001b[0m\n"
     ]
    }
   ],
   "source": [
    "!pip install torch_geometric"
   ]
  },
  {
   "cell_type": "code",
   "execution_count": 3,
   "metadata": {
    "id": "Wmb1ZAP9t-YW"
   },
   "outputs": [],
   "source": [
    "import torch\n",
    "import torch.nn.functional as F\n",
    "from torch_geometric.datasets import MNISTSuperpixels\n",
    "from torch_geometric.nn import GCNConv, global_mean_pool"
   ]
  },
  {
   "cell_type": "code",
   "execution_count": 4,
   "metadata": {
    "id": "bYsq_ha0uTJ4"
   },
   "outputs": [],
   "source": [
    "# Define the GNN architecture\n",
    "class Net(torch.nn.Module):\n",
    "    def __init__(self):\n",
    "        super(Net, self).__init__()\n",
    "        self.conv1 = GCNConv(1, 32)  # Input has 1 channel (grayscale), output has 32 channels\n",
    "        self.conv2 = GCNConv(32, 64) # Input has 32 channels, output has 64 channels\n",
    "        self.fc1 = torch.nn.Linear(64, 128) # Fully connected layer\n",
    "        self.fc2 = torch.nn.Linear(128, 10) # Output layer with 10 classes\n",
    "    \n",
    "    def forward(self, data):\n",
    "        x, edge_index, batch = data.x, data.edge_index, data.batch\n",
    "        x = F.relu(self.conv1(x, edge_index))\n",
    "        x = F.relu(self.conv2(x, edge_index))\n",
    "        x = global_mean_pool(x, batch) # Pool the node features to obtain a graph-level representation\n",
    "        x = F.relu(self.fc1(x))\n",
    "        x = F.dropout(x, training=self.training)\n",
    "        x = self.fc2(x)\n",
    "        return F.log_softmax(x, dim=1)\n"
   ]
  },
  {
   "cell_type": "code",
   "execution_count": 5,
   "metadata": {
    "colab": {
     "base_uri": "https://localhost:8080/"
    },
    "id": "uKLJyNVIuWm6",
    "outputId": "31d1cd9f-79ba-4eff-d2fc-c6a26417f268"
   },
   "outputs": [
    {
     "name": "stderr",
     "output_type": "stream",
     "text": [
      "Downloading https://data.pyg.org/datasets/MNISTSuperpixels.zip\n",
      "Extracting data/raw/MNISTSuperpixels.zip\n",
      "Processing...\n",
      "Done!\n"
     ]
    }
   ],
   "source": [
    "# Load the MNIST dataset as a graph\n",
    "train_dataset = MNISTSuperpixels(root='./data', train=True, transform=None, pre_transform=None)\n",
    "test_dataset = MNISTSuperpixels(root='./data', train=False, transform=None, pre_transform=None)"
   ]
  },
  {
   "cell_type": "code",
   "execution_count": 13,
   "metadata": {
    "id": "1Xm9J-q8t--d"
   },
   "outputs": [],
   "source": [
    "# Initialize the model and optimizer\n",
    "device = torch.device('cuda' if torch.cuda.is_available() else 'cpu')\n",
    "model = Net().to(device)\n",
    "optimizer = torch.optim.Adam(model.parameters(), lr=0.001)"
   ]
  },
  {
   "cell_type": "code",
   "execution_count": 14,
   "metadata": {
    "colab": {
     "base_uri": "https://localhost:8080/"
    },
    "id": "cNy4_hgYufN6",
    "outputId": "3bcdffeb-f220-41a9-8f0a-339171284cee",
    "tags": []
   },
   "outputs": [
    {
     "name": "stdout",
     "output_type": "stream",
     "text": [
      "Epoch 0, Train Loss: 2.120118083907703\n",
      "Test Accuracy: 0.2733\n",
      "Epoch run in 176.5150 seconds\n",
      "Epoch 1, Train Loss: 1.9278039398152709\n",
      "Test Accuracy: 0.2803\n",
      "Epoch run in 174.2392 seconds\n",
      "Epoch 2, Train Loss: 1.8904955244271735\n",
      "Test Accuracy: 0.3091\n",
      "Epoch run in 174.2070 seconds\n",
      "Epoch 3, Train Loss: 1.8462379550811119\n",
      "Test Accuracy: 0.2927\n",
      "Epoch run in 174.1788 seconds\n",
      "Epoch 4, Train Loss: 1.823709907395192\n",
      "Test Accuracy: 0.3078\n",
      "Epoch run in 174.2534 seconds\n",
      "Epoch 5, Train Loss: 1.8121111069921394\n",
      "Test Accuracy: 0.3105\n",
      "Epoch run in 174.2742 seconds\n",
      "Epoch 6, Train Loss: 1.8024902604641633\n",
      "Test Accuracy: 0.3235\n",
      "Epoch run in 174.1865 seconds\n",
      "Epoch 7, Train Loss: 1.7946935000203883\n",
      "Test Accuracy: 0.3289\n",
      "Epoch run in 174.1546 seconds\n",
      "Epoch 8, Train Loss: 1.785991266366295\n",
      "Test Accuracy: 0.3351\n",
      "Epoch run in 174.1866 seconds\n",
      "Epoch 9, Train Loss: 1.7764387689080146\n",
      "Test Accuracy: 0.3345\n",
      "Epoch run in 174.2745 seconds\n",
      "Epoch 10, Train Loss: 1.7658081299829622\n",
      "Test Accuracy: 0.3392\n",
      "Epoch run in 174.1896 seconds\n",
      "Epoch 11, Train Loss: 1.7538354572645247\n",
      "Test Accuracy: 0.3486\n",
      "Epoch run in 174.3143 seconds\n",
      "Epoch 12, Train Loss: 1.7407032342980455\n",
      "Test Accuracy: 0.3589\n",
      "Epoch run in 174.2607 seconds\n",
      "Epoch 13, Train Loss: 1.7294530048591688\n",
      "Test Accuracy: 0.3648\n",
      "Epoch run in 174.2019 seconds\n",
      "Epoch 14, Train Loss: 1.7191590920155615\n",
      "Test Accuracy: 0.3723\n",
      "Epoch run in 174.2996 seconds\n",
      "Epoch 15, Train Loss: 1.709238027440792\n",
      "Test Accuracy: 0.3677\n",
      "Epoch run in 174.2484 seconds\n",
      "Epoch 16, Train Loss: 1.6996405015744087\n",
      "Test Accuracy: 0.3802\n",
      "Epoch run in 174.2278 seconds\n",
      "Epoch 17, Train Loss: 1.690529017237599\n",
      "Test Accuracy: 0.3824\n",
      "Epoch run in 174.2766 seconds\n",
      "Epoch 18, Train Loss: 1.6808831997825566\n",
      "Test Accuracy: 0.3862\n",
      "Epoch run in 174.1908 seconds\n",
      "Epoch 19, Train Loss: 1.6718531910368661\n",
      "Test Accuracy: 0.4089\n",
      "Epoch run in 174.2472 seconds\n",
      "Epoch 20, Train Loss: 1.6626796696303388\n",
      "Test Accuracy: 0.4096\n",
      "Epoch run in 174.2212 seconds\n",
      "Epoch 21, Train Loss: 1.6539394263619314\n",
      "Test Accuracy: 0.4188\n",
      "Epoch run in 174.1892 seconds\n",
      "Epoch 22, Train Loss: 1.6469209417428687\n",
      "Test Accuracy: 0.4207\n",
      "Epoch run in 174.1357 seconds\n",
      "Epoch 23, Train Loss: 1.6414429940888335\n",
      "Test Accuracy: 0.4214\n",
      "Epoch run in 174.1340 seconds\n",
      "Epoch 24, Train Loss: 1.6368050619246362\n",
      "Test Accuracy: 0.4226\n",
      "Epoch run in 174.0691 seconds\n",
      "Epoch 25, Train Loss: 1.6323852950465192\n",
      "Test Accuracy: 0.4226\n",
      "Epoch run in 174.0471 seconds\n",
      "Epoch 26, Train Loss: 1.6286264237818264\n",
      "Test Accuracy: 0.4221\n",
      "Epoch run in 174.2104 seconds\n",
      "Epoch 27, Train Loss: 1.6249416846014162\n",
      "Test Accuracy: 0.423\n",
      "Epoch run in 174.2112 seconds\n",
      "Epoch 28, Train Loss: 1.622504685424585\n",
      "Test Accuracy: 0.4263\n",
      "Epoch run in 174.2509 seconds\n",
      "Epoch 29, Train Loss: 1.620676807940509\n",
      "Test Accuracy: 0.4239\n",
      "Epoch run in 174.1776 seconds\n",
      "Epoch 30, Train Loss: 1.6176158366810163\n",
      "Test Accuracy: 0.4241\n",
      "Epoch run in 174.2677 seconds\n",
      "Epoch 31, Train Loss: 1.615089248798543\n",
      "Test Accuracy: 0.4232\n",
      "Epoch run in 174.2911 seconds\n",
      "Epoch 32, Train Loss: 1.612060958446337\n",
      "Test Accuracy: 0.429\n",
      "Epoch run in 174.3392 seconds\n",
      "Epoch 33, Train Loss: 1.6098098797302056\n",
      "Test Accuracy: 0.4283\n",
      "Epoch run in 174.3787 seconds\n",
      "Epoch 34, Train Loss: 1.6080870342005484\n",
      "Test Accuracy: 0.4189\n",
      "Epoch run in 174.2459 seconds\n",
      "Epoch 35, Train Loss: 1.6053339612184925\n",
      "Test Accuracy: 0.4255\n",
      "Epoch run in 174.1026 seconds\n",
      "Epoch 36, Train Loss: 1.6035780250430005\n",
      "Test Accuracy: 0.4231\n",
      "Epoch run in 174.0681 seconds\n",
      "Epoch 37, Train Loss: 1.6018849345906048\n",
      "Test Accuracy: 0.4185\n",
      "Epoch run in 174.1015 seconds\n",
      "Epoch 38, Train Loss: 1.6003059375324786\n",
      "Test Accuracy: 0.4223\n",
      "Epoch run in 174.1188 seconds\n",
      "Epoch 39, Train Loss: 1.5982215564547257\n",
      "Test Accuracy: 0.4236\n",
      "Epoch run in 174.0462 seconds\n",
      "Epoch 40, Train Loss: 1.5965774796809886\n",
      "Test Accuracy: 0.4243\n",
      "Epoch run in 174.0032 seconds\n",
      "Epoch 41, Train Loss: 1.5954272239304659\n",
      "Test Accuracy: 0.4228\n",
      "Epoch run in 174.1494 seconds\n",
      "Epoch 42, Train Loss: 1.5942131860002733\n",
      "Test Accuracy: 0.4288\n",
      "Epoch run in 174.0902 seconds\n",
      "Epoch 43, Train Loss: 1.5936039742755632\n",
      "Test Accuracy: 0.4269\n",
      "Epoch run in 174.1077 seconds\n",
      "Epoch 44, Train Loss: 1.5920461168083635\n",
      "Test Accuracy: 0.425\n",
      "Epoch run in 174.0985 seconds\n",
      "Epoch 45, Train Loss: 1.5906277009862135\n",
      "Test Accuracy: 0.4223\n",
      "Epoch run in 174.0586 seconds\n",
      "Epoch 46, Train Loss: 1.5893279654566936\n",
      "Test Accuracy: 0.4266\n",
      "Epoch run in 174.0621 seconds\n",
      "Epoch 47, Train Loss: 1.5879204715706399\n",
      "Test Accuracy: 0.4252\n",
      "Epoch run in 174.1487 seconds\n",
      "Epoch 48, Train Loss: 1.5865415700224963\n",
      "Test Accuracy: 0.4286\n",
      "Epoch run in 174.1109 seconds\n",
      "Epoch 49, Train Loss: 1.5851417744328857\n",
      "Test Accuracy: 0.4297\n",
      "Epoch run in 174.1576 seconds\n",
      "Epoch 50, Train Loss: 1.5835986030677311\n",
      "Test Accuracy: 0.4245\n",
      "Epoch run in 174.2347 seconds\n",
      "Epoch 51, Train Loss: 1.582750486300288\n",
      "Test Accuracy: 0.4288\n",
      "Epoch run in 174.1938 seconds\n",
      "Epoch 52, Train Loss: 1.5812729928682712\n",
      "Test Accuracy: 0.4275\n",
      "Epoch run in 174.0734 seconds\n",
      "Epoch 53, Train Loss: 1.5798160774455134\n",
      "Test Accuracy: 0.426\n",
      "Epoch run in 174.0532 seconds\n",
      "Epoch 54, Train Loss: 1.57982211396839\n",
      "Test Accuracy: 0.4295\n",
      "Epoch run in 174.0692 seconds\n",
      "Epoch 55, Train Loss: 1.5786031320183642\n",
      "Test Accuracy: 0.4281\n",
      "Epoch run in 174.1604 seconds\n",
      "Epoch 56, Train Loss: 1.5766571902613686\n",
      "Test Accuracy: 0.4323\n",
      "Epoch run in 174.0824 seconds\n",
      "Epoch 57, Train Loss: 1.5760001843610825\n",
      "Test Accuracy: 0.4309\n",
      "Epoch run in 174.0950 seconds\n",
      "Epoch 58, Train Loss: 1.5751013897482706\n",
      "Test Accuracy: 0.4357\n",
      "Epoch run in 174.0823 seconds\n",
      "Epoch 59, Train Loss: 1.5762075204123729\n",
      "Test Accuracy: 0.4357\n",
      "Epoch run in 174.1296 seconds\n",
      "Epoch 60, Train Loss: 1.5755643779789181\n",
      "Test Accuracy: 0.4286\n",
      "Epoch run in 174.1797 seconds\n",
      "Epoch 61, Train Loss: 1.5749312819233976\n",
      "Test Accuracy: 0.4322\n",
      "Epoch run in 174.1454 seconds\n",
      "Epoch 62, Train Loss: 1.5750678496173243\n",
      "Test Accuracy: 0.4333\n",
      "Epoch run in 174.1401 seconds\n",
      "Epoch 63, Train Loss: 1.574267900410383\n",
      "Test Accuracy: 0.434\n",
      "Epoch run in 174.0906 seconds\n",
      "Epoch 64, Train Loss: 1.5737630667579239\n",
      "Test Accuracy: 0.4352\n",
      "Epoch run in 174.1243 seconds\n",
      "Epoch 65, Train Loss: 1.573196866467988\n",
      "Test Accuracy: 0.4369\n",
      "Epoch run in 174.1354 seconds\n",
      "Epoch 66, Train Loss: 1.5724540339960267\n",
      "Test Accuracy: 0.4343\n",
      "Epoch run in 174.1098 seconds\n",
      "Epoch 67, Train Loss: 1.5715922953115087\n",
      "Test Accuracy: 0.4371\n",
      "Epoch run in 174.0623 seconds\n",
      "Epoch 68, Train Loss: 1.5696607910997487\n",
      "Test Accuracy: 0.437\n",
      "Epoch run in 174.0604 seconds\n",
      "Epoch 69, Train Loss: 1.5691201218862698\n",
      "Test Accuracy: 0.431\n",
      "Epoch run in 174.0784 seconds\n",
      "Epoch 70, Train Loss: 1.5699696196816944\n",
      "Test Accuracy: 0.4374\n",
      "Epoch run in 174.1123 seconds\n",
      "Epoch 71, Train Loss: 1.5686395015452228\n",
      "Test Accuracy: 0.4338\n",
      "Epoch run in 174.0891 seconds\n",
      "Epoch 72, Train Loss: 1.5694482074377896\n",
      "Test Accuracy: 0.4407\n",
      "Epoch run in 174.1836 seconds\n",
      "Epoch 73, Train Loss: 1.5676664019469122\n",
      "Test Accuracy: 0.4351\n",
      "Epoch run in 174.1082 seconds\n",
      "Epoch 74, Train Loss: 1.5688850215537375\n",
      "Test Accuracy: 0.4306\n",
      "Epoch run in 174.1960 seconds\n",
      "Epoch 75, Train Loss: 1.5681216716363287\n",
      "Test Accuracy: 0.4315\n",
      "Epoch run in 174.1606 seconds\n",
      "Epoch 76, Train Loss: 1.5682347762551834\n",
      "Test Accuracy: 0.4368\n",
      "Epoch run in 174.1329 seconds\n",
      "Epoch 77, Train Loss: 1.5673796801591513\n",
      "Test Accuracy: 0.4365\n",
      "Epoch run in 174.1210 seconds\n",
      "Epoch 78, Train Loss: 1.5679209926825548\n",
      "Test Accuracy: 0.4396\n",
      "Epoch run in 174.0853 seconds\n",
      "Epoch 79, Train Loss: 1.5660125507407245\n",
      "Test Accuracy: 0.4387\n",
      "Epoch run in 174.0614 seconds\n",
      "Epoch 80, Train Loss: 1.5664735944184156\n",
      "Test Accuracy: 0.435\n",
      "Epoch run in 174.2008 seconds\n",
      "Epoch 81, Train Loss: 1.5659600634850817\n",
      "Test Accuracy: 0.436\n",
      "Epoch run in 174.1199 seconds\n",
      "Epoch 82, Train Loss: 1.565702047953688\n",
      "Test Accuracy: 0.4365\n",
      "Epoch run in 174.0045 seconds\n",
      "Epoch 83, Train Loss: 1.5643848567107346\n",
      "Test Accuracy: 0.4353\n",
      "Epoch run in 174.1223 seconds\n",
      "Epoch 84, Train Loss: 1.564911889993503\n",
      "Test Accuracy: 0.4383\n",
      "Epoch run in 174.1301 seconds\n",
      "Epoch 85, Train Loss: 1.5633843200186779\n",
      "Test Accuracy: 0.4357\n",
      "Epoch run in 174.0790 seconds\n",
      "Epoch 86, Train Loss: 1.5625846534455468\n",
      "Test Accuracy: 0.4358\n",
      "Epoch run in 174.1027 seconds\n",
      "Epoch 87, Train Loss: 1.5640626724736253\n",
      "Test Accuracy: 0.4387\n",
      "Epoch run in 174.0415 seconds\n",
      "Epoch 88, Train Loss: 1.5635678823828998\n",
      "Test Accuracy: 0.4377\n",
      "Epoch run in 174.1140 seconds\n",
      "Epoch 89, Train Loss: 1.5647698720656027\n",
      "Test Accuracy: 0.4332\n",
      "Epoch run in 174.1486 seconds\n",
      "Epoch 90, Train Loss: 1.5650711394501695\n",
      "Test Accuracy: 0.4346\n",
      "Epoch run in 174.2192 seconds\n",
      "Epoch 91, Train Loss: 1.5684285766094224\n",
      "Test Accuracy: 0.4359\n",
      "Epoch run in 174.3372 seconds\n",
      "Epoch 92, Train Loss: 1.5669087905161336\n",
      "Test Accuracy: 0.4387\n",
      "Epoch run in 174.1304 seconds\n",
      "Epoch 93, Train Loss: 1.565054949438128\n",
      "Test Accuracy: 0.4363\n",
      "Epoch run in 174.0217 seconds\n",
      "Epoch 94, Train Loss: 1.5671821899884844\n",
      "Test Accuracy: 0.4441\n",
      "Epoch run in 174.0876 seconds\n",
      "Epoch 95, Train Loss: 1.5682553646012956\n",
      "Test Accuracy: 0.4415\n",
      "Epoch run in 174.1304 seconds\n",
      "Epoch 96, Train Loss: 1.5673591292066908\n",
      "Test Accuracy: 0.4412\n",
      "Epoch run in 174.2098 seconds\n",
      "Epoch 97, Train Loss: 1.5701329170435683\n",
      "Test Accuracy: 0.4391\n",
      "Epoch run in 174.3819 seconds\n",
      "Epoch 98, Train Loss: 1.5698782357590075\n",
      "Test Accuracy: 0.4155\n",
      "Epoch run in 174.2888 seconds\n",
      "Epoch 99, Train Loss: 1.568681382111924\n",
      "Test Accuracy: 0.4386\n",
      "Epoch run in 174.2563 seconds\n"
     ]
    }
   ],
   "source": [
    "model.train()\n",
    "train_loss = []\n",
    "epoch_list = []\n",
    "test_loss = []\n",
    "for epoch in range(100):\n",
    "    tic = time.perf_counter()\n",
    "    total_loss = 0\n",
    "    total_nodes = 0\n",
    "    for data in train_dataset:\n",
    "        data = data.to(device)\n",
    "        optimizer.zero_grad()\n",
    "        out = model(data)\n",
    "        loss = F.nll_loss(out, data.y)\n",
    "        loss.backward()\n",
    "        optimizer.step()\n",
    "        total_loss += loss.item() * data.num_nodes\n",
    "        total_nodes += data.num_nodes\n",
    "    if epoch % 1 == 0:\n",
    "        print(f'Epoch {epoch}, Train Loss: {total_loss / total_nodes}')\n",
    "        model.eval()\n",
    "        correct = 0\n",
    "        total = 0\n",
    "        x = total_loss / total_nodes\n",
    "        train_loss.append(x)\n",
    "        epoch_list.append(epoch)\n",
    "        for data in test_dataset:\n",
    "            data = data.to(device)\n",
    "            out = model(data)\n",
    "            pred = out.argmax(dim=1)\n",
    "            #print(pred, data.y)\n",
    "            correct += int((pred == data.y).sum())\n",
    "            total += 1\n",
    "        print(f'Test Accuracy: {correct / total}') \n",
    "        y = correct / total\n",
    "        test_loss.append(y)\n",
    "    toc = time.perf_counter()\n",
    "    print(f\"Epoch run in {toc - tic:0.4f} seconds\")"
   ]
  },
  {
   "cell_type": "code",
   "execution_count": null,
   "metadata": {
    "colab": {
     "base_uri": "https://localhost:8080/"
    },
    "id": "iTB0UN-PuLC0",
    "outputId": "f0998f16-5e49-4fbf-9865-9c42ea68bf33"
   },
   "outputs": [],
   "source": [
    "model.eval()\n",
    "correct = 0\n",
    "total = 0\n",
    "for data in test_dataset:\n",
    "    data = data.to(device)\n",
    "    out = model(data)\n",
    "    pred = out.argmax(dim=1)\n",
    "    correct += int((pred == data.y).sum())\n",
    "    total += 1\n",
    "print(f'Test Accuracy: {correct / total}') "
   ]
  },
  {
   "cell_type": "code",
   "execution_count": 15,
   "metadata": {
    "id": "wLBQ4J2HDACP"
   },
   "outputs": [],
   "source": [
    "import matplotlib.pyplot as plt"
   ]
  },
  {
   "cell_type": "code",
   "execution_count": 18,
   "metadata": {},
   "outputs": [
    {
     "data": {
      "image/png": "[encoded data removed]",
      "text/plain": [
       "<Figure size 432x288 with 1 Axes>"
      ]
     },
     "metadata": {
      "needs_background": "light"
     },
     "output_type": "display_data"
    }
   ],
   "source": [
    "plt.plot(train_loss, label=\"train\")\n",
    "#plt.plot(test_loss, label=\"test\")\n",
    "plt.title(\"Loss Plot\")\n",
    "plt.ylabel(\"Loss\")\n",
    "plt.xlabel(\"Epoch\")\n",
    "plt.legend()\n",
    "plt.show()"
   ]
  },
  {
   "cell_type": "code",
   "execution_count": 17,
   "metadata": {},
   "outputs": [
    {
     "data": {
      "image/png": "[encoded data removed]",
      "text/plain": [
       "<Figure size 432x288 with 1 Axes>"
      ]
     },
     "metadata": {
      "needs_background": "light"
     },
     "output_type": "display_data"
    }
   ],
   "source": [
    "plt.plot(test_loss, label=\"test\")\n",
    "plt.title(\"Accuracy Plot\")\n",
    "plt.ylabel(\"Accuracy\")\n",
    "plt.xlabel(\"Epoch\")\n",
    "plt.legend()\n",
    "plt.show()"
   ]
  },
  {
   "cell_type": "code",
   "execution_count": null,
   "metadata": {},
   "outputs": [],
   "source": []
  }
 ],
 "metadata": {
  "colab": {
   "provenance": []
  },
  "kernelspec": {
   "display_name": "Python 3 (ipykernel)",
   "language": "python",
   "name": "python3"
  },
  "language_info": {
   "codemirror_mode": {
    "name": "ipython",
    "version": 3
   },
   "file_extension": ".py",
   "mimetype": "text/x-python",
   "name": "python",
   "nbconvert_exporter": "python",
   "pygments_lexer": "ipython3",
   "version": "3.9.9"
  }
 },
 "nbformat": 4,
 "nbformat_minor": 4
}
